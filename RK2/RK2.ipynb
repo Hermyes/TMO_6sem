{
 "cells": [
  {
   "cell_type": "markdown",
   "id": "d3434248",
   "metadata": {},
   "source": [
    "# Рубежный контроль №2\n",
    "\n",
    "**Ф.И.О.:** Ергалиев Аслан  \n",
    "**Группа:** РТ5-61Б  \n",
    "**Вариант:** 4  \n",
    "\n",
    "---\n",
    "\n",
    "**Датасет**\n",
    "\n",
    "Данный датасет является вымышленным и предназначен для целей анализа данных и построения простых моделей машинного обучения. Он содержит информацию о 150 000 человек и включает в себя следующие признаки:\n",
    "\n",
    "- **Number** — индекс строки (не имеет смысловой нагрузки для анализа)\n",
    "- **City** — город проживания (Dallas, New York City, Los Angeles, Mountain View, Boston, Washington D.C., San Diego, Austin)\n",
    "- **Gender** — пол (Male или Female)\n",
    "- **Age** — возраст (от 25 до 65 лет)\n",
    "- **Income** — годовой доход (от -674 до 177175)\n",
    "- **Illness** — наличие заболевания (Yes или No)\n",
    "\n",
    "---\n",
    "\n",
    "**Описание датасета**\n",
    "\n",
    "Данные являются синтетическими и специально сгенерированы таким образом, чтобы их распределения были удобны для статистического анализа. Целевой переменной является столбец **Illness**, который отражает наличие или отсутствие заболевания у человека.  \n",
    "Задача — предсказать наличие заболевания на основе социально-демографических признаков.\n"
   ]
  },
  {
   "cell_type": "code",
   "execution_count": 32,
   "id": "87c61754",
   "metadata": {},
   "outputs": [],
   "source": [
    "import pandas as pd\n",
    "import numpy as np\n",
    "import matplotlib.pyplot as plt\n",
    "import seaborn as sns\n",
    "from sklearn.model_selection import train_test_split\n",
    "from sklearn.preprocessing import LabelEncoder, StandardScaler\n",
    "from sklearn.tree import DecisionTreeClassifier\n",
    "from sklearn.ensemble import GradientBoostingClassifier\n",
    "from sklearn.metrics import accuracy_score, f1_score, classification_report, confusion_matrix\n",
    "from sklearn.metrics import precision_score, recall_score\n"
   ]
  },
  {
   "cell_type": "markdown",
   "id": "e3189f3a",
   "metadata": {},
   "source": [
    "**Загрузка данных**"
   ]
  },
  {
   "cell_type": "code",
   "execution_count": 33,
   "id": "ee8eb93c",
   "metadata": {},
   "outputs": [
    {
     "data": {
      "text/html": [
       "<div>\n",
       "<style scoped>\n",
       "    .dataframe tbody tr th:only-of-type {\n",
       "        vertical-align: middle;\n",
       "    }\n",
       "\n",
       "    .dataframe tbody tr th {\n",
       "        vertical-align: top;\n",
       "    }\n",
       "\n",
       "    .dataframe thead th {\n",
       "        text-align: right;\n",
       "    }\n",
       "</style>\n",
       "<table border=\"1\" class=\"dataframe\">\n",
       "  <thead>\n",
       "    <tr style=\"text-align: right;\">\n",
       "      <th></th>\n",
       "      <th>Number</th>\n",
       "      <th>City</th>\n",
       "      <th>Gender</th>\n",
       "      <th>Age</th>\n",
       "      <th>Income</th>\n",
       "      <th>Illness</th>\n",
       "    </tr>\n",
       "  </thead>\n",
       "  <tbody>\n",
       "    <tr>\n",
       "      <th>0</th>\n",
       "      <td>1</td>\n",
       "      <td>Dallas</td>\n",
       "      <td>Male</td>\n",
       "      <td>41</td>\n",
       "      <td>40367.0</td>\n",
       "      <td>No</td>\n",
       "    </tr>\n",
       "    <tr>\n",
       "      <th>1</th>\n",
       "      <td>2</td>\n",
       "      <td>Dallas</td>\n",
       "      <td>Male</td>\n",
       "      <td>54</td>\n",
       "      <td>45084.0</td>\n",
       "      <td>No</td>\n",
       "    </tr>\n",
       "    <tr>\n",
       "      <th>2</th>\n",
       "      <td>3</td>\n",
       "      <td>Dallas</td>\n",
       "      <td>Male</td>\n",
       "      <td>42</td>\n",
       "      <td>52483.0</td>\n",
       "      <td>No</td>\n",
       "    </tr>\n",
       "    <tr>\n",
       "      <th>3</th>\n",
       "      <td>4</td>\n",
       "      <td>Dallas</td>\n",
       "      <td>Male</td>\n",
       "      <td>40</td>\n",
       "      <td>40941.0</td>\n",
       "      <td>No</td>\n",
       "    </tr>\n",
       "    <tr>\n",
       "      <th>4</th>\n",
       "      <td>5</td>\n",
       "      <td>Dallas</td>\n",
       "      <td>Male</td>\n",
       "      <td>46</td>\n",
       "      <td>50289.0</td>\n",
       "      <td>No</td>\n",
       "    </tr>\n",
       "    <tr>\n",
       "      <th>5</th>\n",
       "      <td>6</td>\n",
       "      <td>Dallas</td>\n",
       "      <td>Female</td>\n",
       "      <td>36</td>\n",
       "      <td>50786.0</td>\n",
       "      <td>No</td>\n",
       "    </tr>\n",
       "    <tr>\n",
       "      <th>6</th>\n",
       "      <td>7</td>\n",
       "      <td>Dallas</td>\n",
       "      <td>Female</td>\n",
       "      <td>32</td>\n",
       "      <td>33155.0</td>\n",
       "      <td>No</td>\n",
       "    </tr>\n",
       "    <tr>\n",
       "      <th>7</th>\n",
       "      <td>8</td>\n",
       "      <td>Dallas</td>\n",
       "      <td>Male</td>\n",
       "      <td>39</td>\n",
       "      <td>30914.0</td>\n",
       "      <td>No</td>\n",
       "    </tr>\n",
       "    <tr>\n",
       "      <th>8</th>\n",
       "      <td>9</td>\n",
       "      <td>Dallas</td>\n",
       "      <td>Male</td>\n",
       "      <td>51</td>\n",
       "      <td>68667.0</td>\n",
       "      <td>No</td>\n",
       "    </tr>\n",
       "    <tr>\n",
       "      <th>9</th>\n",
       "      <td>10</td>\n",
       "      <td>Dallas</td>\n",
       "      <td>Female</td>\n",
       "      <td>30</td>\n",
       "      <td>50082.0</td>\n",
       "      <td>No</td>\n",
       "    </tr>\n",
       "  </tbody>\n",
       "</table>\n",
       "</div>"
      ],
      "text/plain": [
       "   Number    City  Gender  Age   Income Illness\n",
       "0       1  Dallas    Male   41  40367.0      No\n",
       "1       2  Dallas    Male   54  45084.0      No\n",
       "2       3  Dallas    Male   42  52483.0      No\n",
       "3       4  Dallas    Male   40  40941.0      No\n",
       "4       5  Dallas    Male   46  50289.0      No\n",
       "5       6  Dallas  Female   36  50786.0      No\n",
       "6       7  Dallas  Female   32  33155.0      No\n",
       "7       8  Dallas    Male   39  30914.0      No\n",
       "8       9  Dallas    Male   51  68667.0      No\n",
       "9      10  Dallas  Female   30  50082.0      No"
      ]
     },
     "execution_count": 33,
     "metadata": {},
     "output_type": "execute_result"
    }
   ],
   "source": [
    "df = pd.read_csv('toy_dataset.csv')\n",
    "df.head(10)"
   ]
  },
  {
   "cell_type": "markdown",
   "id": "93c99bdf",
   "metadata": {},
   "source": [
    "## **Предобработка данных**\n",
    "\n",
    "Нам не нужен столбец number, потому что какой-либо информации он не несет. \n",
    "Так же нужно будет обработать категориальные признаки City и Gender. Гендер можно перевести в 0 и 1. City надо будет глянуть сколько там уникальных значений и сделать вывод какой метод применить, но скорее всего one-hot\n",
    "\n",
    "Проверить какие значения имеются в income. В описании написано, что есть отрицательный доход. Неизвестно, что это может быть значит и в жизни такого нет. Надо будет проверить сколько лиц имеет отрицательный доход. Если их много придется усреднить или удалить если их мало\n",
    "\n",
    "Ну и естественно проверить на пропущенные значения"
   ]
  },
  {
   "cell_type": "code",
   "execution_count": 34,
   "id": "f1776865",
   "metadata": {},
   "outputs": [
    {
     "data": {
      "text/plain": [
       "{'Уникальные города (City)': 8,\n",
       " 'Уникальные значения в Gender': ['Male', 'Female'],\n",
       " 'Количество отрицательных доходов': np.int64(1),\n",
       " 'Всего строк': 150000,\n",
       " 'Пропущенные значения по столбцам': {'City': 0,\n",
       "  'Gender': 0,\n",
       "  'Age': 0,\n",
       "  'Income': 0,\n",
       "  'Illness': 0}}"
      ]
     },
     "execution_count": 34,
     "metadata": {},
     "output_type": "execute_result"
    }
   ],
   "source": [
    "df = df.drop(columns=['Number'])\n",
    "\n",
    "unique_cities = df['City'].nunique()\n",
    "unique_genders = df['Gender'].unique()\n",
    "gender_mapping = {'Male': 0, 'Female': 1}\n",
    "df['Gender'] = df['Gender'].map(gender_mapping)\n",
    "\n",
    "\n",
    "negative_income_count = (df['Income'] < 0).sum()\n",
    "total_rows = len(df)\n",
    "missing_values = df.isnull().sum()\n",
    "\n",
    "{\n",
    "    \"Уникальные города (City)\": unique_cities,\n",
    "    \"Уникальные значения в Gender\": list(unique_genders),\n",
    "    \"Количество отрицательных доходов\": negative_income_count,\n",
    "    \"Всего строк\": total_rows,\n",
    "    \"Пропущенные значения по столбцам\": missing_values.to_dict()\n",
    "}\n"
   ]
  },
  {
   "cell_type": "markdown",
   "id": "3947e97b",
   "metadata": {},
   "source": [
    "Пишет что человек с отрицательным доходом всего один. Так что испепелить его не так уж и страшно\n",
    "\n",
    "Городов всего 8. Можно кодировать по one-hot"
   ]
  },
  {
   "cell_type": "code",
   "execution_count": 35,
   "id": "6a757ad6",
   "metadata": {},
   "outputs": [
    {
     "data": {
      "text/html": [
       "<div>\n",
       "<style scoped>\n",
       "    .dataframe tbody tr th:only-of-type {\n",
       "        vertical-align: middle;\n",
       "    }\n",
       "\n",
       "    .dataframe tbody tr th {\n",
       "        vertical-align: top;\n",
       "    }\n",
       "\n",
       "    .dataframe thead th {\n",
       "        text-align: right;\n",
       "    }\n",
       "</style>\n",
       "<table border=\"1\" class=\"dataframe\">\n",
       "  <thead>\n",
       "    <tr style=\"text-align: right;\">\n",
       "      <th></th>\n",
       "      <th>Gender</th>\n",
       "      <th>Age</th>\n",
       "      <th>Income</th>\n",
       "      <th>Illness</th>\n",
       "      <th>City_Austin</th>\n",
       "      <th>City_Boston</th>\n",
       "      <th>City_Dallas</th>\n",
       "      <th>City_Los Angeles</th>\n",
       "      <th>City_Mountain View</th>\n",
       "      <th>City_New York City</th>\n",
       "      <th>City_San Diego</th>\n",
       "      <th>City_Washington D.C.</th>\n",
       "    </tr>\n",
       "  </thead>\n",
       "  <tbody>\n",
       "    <tr>\n",
       "      <th>0</th>\n",
       "      <td>0</td>\n",
       "      <td>41</td>\n",
       "      <td>40367.0</td>\n",
       "      <td>No</td>\n",
       "      <td>False</td>\n",
       "      <td>False</td>\n",
       "      <td>True</td>\n",
       "      <td>False</td>\n",
       "      <td>False</td>\n",
       "      <td>False</td>\n",
       "      <td>False</td>\n",
       "      <td>False</td>\n",
       "    </tr>\n",
       "    <tr>\n",
       "      <th>1</th>\n",
       "      <td>0</td>\n",
       "      <td>54</td>\n",
       "      <td>45084.0</td>\n",
       "      <td>No</td>\n",
       "      <td>False</td>\n",
       "      <td>False</td>\n",
       "      <td>True</td>\n",
       "      <td>False</td>\n",
       "      <td>False</td>\n",
       "      <td>False</td>\n",
       "      <td>False</td>\n",
       "      <td>False</td>\n",
       "    </tr>\n",
       "    <tr>\n",
       "      <th>2</th>\n",
       "      <td>0</td>\n",
       "      <td>42</td>\n",
       "      <td>52483.0</td>\n",
       "      <td>No</td>\n",
       "      <td>False</td>\n",
       "      <td>False</td>\n",
       "      <td>True</td>\n",
       "      <td>False</td>\n",
       "      <td>False</td>\n",
       "      <td>False</td>\n",
       "      <td>False</td>\n",
       "      <td>False</td>\n",
       "    </tr>\n",
       "    <tr>\n",
       "      <th>3</th>\n",
       "      <td>0</td>\n",
       "      <td>40</td>\n",
       "      <td>40941.0</td>\n",
       "      <td>No</td>\n",
       "      <td>False</td>\n",
       "      <td>False</td>\n",
       "      <td>True</td>\n",
       "      <td>False</td>\n",
       "      <td>False</td>\n",
       "      <td>False</td>\n",
       "      <td>False</td>\n",
       "      <td>False</td>\n",
       "    </tr>\n",
       "    <tr>\n",
       "      <th>4</th>\n",
       "      <td>0</td>\n",
       "      <td>46</td>\n",
       "      <td>50289.0</td>\n",
       "      <td>No</td>\n",
       "      <td>False</td>\n",
       "      <td>False</td>\n",
       "      <td>True</td>\n",
       "      <td>False</td>\n",
       "      <td>False</td>\n",
       "      <td>False</td>\n",
       "      <td>False</td>\n",
       "      <td>False</td>\n",
       "    </tr>\n",
       "  </tbody>\n",
       "</table>\n",
       "</div>"
      ],
      "text/plain": [
       "   Gender  Age   Income Illness  City_Austin  City_Boston  City_Dallas  \\\n",
       "0       0   41  40367.0      No        False        False         True   \n",
       "1       0   54  45084.0      No        False        False         True   \n",
       "2       0   42  52483.0      No        False        False         True   \n",
       "3       0   40  40941.0      No        False        False         True   \n",
       "4       0   46  50289.0      No        False        False         True   \n",
       "\n",
       "   City_Los Angeles  City_Mountain View  City_New York City  City_San Diego  \\\n",
       "0             False               False               False           False   \n",
       "1             False               False               False           False   \n",
       "2             False               False               False           False   \n",
       "3             False               False               False           False   \n",
       "4             False               False               False           False   \n",
       "\n",
       "   City_Washington D.C.  \n",
       "0                 False  \n",
       "1                 False  \n",
       "2                 False  \n",
       "3                 False  \n",
       "4                 False  "
      ]
     },
     "execution_count": 35,
     "metadata": {},
     "output_type": "execute_result"
    }
   ],
   "source": [
    "df = df[df['Income'] >= 0]\n",
    "df = pd.get_dummies(df, columns=['City'], prefix='City')\n",
    "df.head()\n"
   ]
  },
  {
   "cell_type": "markdown",
   "id": "ab83d37a",
   "metadata": {},
   "source": []
  },
  {
   "cell_type": "code",
   "execution_count": 36,
   "id": "9e2a4bf8",
   "metadata": {},
   "outputs": [
    {
     "data": {
      "text/plain": [
       "((119999, 11), (30000, 11), (119999,), (30000,))"
      ]
     },
     "execution_count": 36,
     "metadata": {},
     "output_type": "execute_result"
    }
   ],
   "source": [
    "illness_mapping = {'No': 0, 'Yes': 1}\n",
    "df['Illness'] = df['Illness'].map(illness_mapping)\n",
    "X = df.drop(columns=['Illness'])\n",
    "y = df['Illness']\n",
    "X_train, X_test, y_train, y_test = train_test_split(X, y, test_size=0.2, random_state=42, stratify=y)\n",
    "\n",
    "X_train.shape, X_test.shape, y_train.shape, y_test.shape"
   ]
  },
  {
   "cell_type": "markdown",
   "id": "74181e12",
   "metadata": {},
   "source": [
    "## **Обучаем модель**\n",
    "\n",
    "**Модель 1: Дерево решений**\n",
    "Используем метрику recall потому что она показывает сколько реально больных из больных мы нашли\n",
    "и F1-score, так как у нас несбалансированные классы и он неплохо подойдет\n"
   ]
  },
  {
   "cell_type": "code",
   "execution_count": 44,
   "id": "75bc2943",
   "metadata": {},
   "outputs": [
    {
     "data": {
      "text/plain": [
       "{'F1-score (Дерево решений)': 0.08171687990094924,\n",
       " 'Recall (Дерево решений)': 0.0815485996705107}"
      ]
     },
     "execution_count": 44,
     "metadata": {},
     "output_type": "execute_result"
    }
   ],
   "source": [
    "from sklearn.tree import DecisionTreeClassifier\n",
    "tree_model = DecisionTreeClassifier(class_weight='balanced', random_state=42)\n",
    "tree_model.fit(X_train, y_train)\n",
    "y_pred_tree = tree_model.predict(X_test)\n",
    "accuracy_tree = accuracy_score(y_test, y_pred_tree)\n",
    "precision_tree = precision_score(y_test, y_pred_tree)\n",
    "recall_tree = recall_score(y_test, y_pred_tree)\n",
    "f1_tree = f1_score(y_test, y_pred_tree)\n",
    "report_tree = classification_report(y_test, y_pred_tree, output_dict=True)\n",
    "\n",
    "{\n",
    "    \"F1-score (Дерево решений)\": f1_tree,\n",
    "    \"Recall (Дерево решений)\": recall_tree\n",
    "}\n"
   ]
  },
  {
   "cell_type": "markdown",
   "id": "934b7493",
   "metadata": {},
   "source": [
    "По метрикам все плохо. Потому что присутствует явный дисбаланс классов"
   ]
  },
  {
   "cell_type": "code",
   "execution_count": null,
   "id": "30c8138b",
   "metadata": {},
   "outputs": [
    {
     "data": {
      "text/plain": [
       "{'F1-score (Дерево решений)': 0.10495626822157435,\n",
       " 'Recall (Дерево решений)': 0.14827018121911037}"
      ]
     },
     "execution_count": 43,
     "metadata": {},
     "output_type": "execute_result"
    }
   ],
   "source": [
    "# from imblearn.over_sampling import SMOTE\n",
    "# smote = SMOTE(random_state=42)\n",
    "# X_resampled, y_resampled = smote.fit_resample(X_train, y_train)\n",
    "\n",
    "# tree_model = DecisionTreeClassifier(class_weight='balanced', random_state=42)\n",
    "# tree_model.fit(X_resampled, y_resampled)\n",
    "# y_pred_tree = tree_model.predict(X_test)\n",
    "# accuracy_tree = accuracy_score(y_test, y_pred_tree)\n",
    "# precision_tree = precision_score(y_test, y_pred_tree)\n",
    "# recall_tree = recall_score(y_test, y_pred_tree)\n",
    "# f1_tree = f1_score(y_test, y_pred_tree)\n",
    "# report_tree = classification_report(y_test, y_pred_tree, output_dict=True)\n",
    "\n",
    "# {\n",
    "#     \"F1-score (Дерево решений)\": f1_tree,\n",
    "#     \"Recall (Дерево решений)\": recall_tree\n",
    "# }"
   ]
  },
  {
   "cell_type": "markdown",
   "id": "03e776b8",
   "metadata": {},
   "source": [
    "**Модель 2: Градиентный бустинг**\n"
   ]
  },
  {
   "cell_type": "code",
   "execution_count": 45,
   "id": "ed5a0ecb",
   "metadata": {},
   "outputs": [
    {
     "data": {
      "text/plain": [
       "{'F1-score': 0.0, 'Recall': 0.0}"
      ]
     },
     "execution_count": 45,
     "metadata": {},
     "output_type": "execute_result"
    }
   ],
   "source": [
    "gb_model = GradientBoostingClassifier(random_state=42)\n",
    "gb_model.fit(X_train, y_train)\n",
    "y_pred_gb = gb_model.predict(X_test)\n",
    "accuracy_gb = accuracy_score(y_test, y_pred_gb)\n",
    "f1_gb = f1_score(y_test, y_pred_gb)\n",
    "precision_gb = precision_score(y_test, y_pred_gb)\n",
    "recall_gb = recall_score(y_test, y_pred_gb)\n",
    "\n",
    "{\n",
    "    \"F1-score\": f1_gb,\n",
    "    \"Recall\": recall_gb\n",
    "}\n"
   ]
  },
  {
   "cell_type": "markdown",
   "id": "6408b458",
   "metadata": {},
   "source": [
    "В общем все совсем плохо по результатам оценки качества. Надо что-то делать с балансом классом явно. Попробую юзнуть SMOTE"
   ]
  },
  {
   "cell_type": "code",
   "execution_count": null,
   "id": "c4ee92fe",
   "metadata": {},
   "outputs": [
    {
     "data": {
      "text/plain": [
       "{'Accuracy (GB + SMOTE)': 0.8419333333333333,\n",
       " 'F1-score': 0.09191880505553428,\n",
       " 'Precision': 0.08589835361488905,\n",
       " 'Recall': 0.09884678747940692}"
      ]
     },
     "execution_count": 40,
     "metadata": {},
     "output_type": "execute_result"
    }
   ],
   "source": [
    "from imblearn.over_sampling import SMOTE\n",
    "\n",
    "smote = SMOTE(random_state=42)\n",
    "X_train_sm, y_train_sm = smote.fit_resample(X_train, y_train)\n",
    "gb_smote_model = GradientBoostingClassifier(random_state=42)\n",
    "gb_smote_model.fit(X_train_sm, y_train_sm)\n",
    "y_pred_gb_sm = gb_smote_model.predict(X_test)\n",
    "accuracy_gb_sm = accuracy_score(y_test, y_pred_gb_sm)\n",
    "f1_gb_sm = f1_score(y_test, y_pred_gb_sm)\n",
    "precision_gb_sm = precision_score(y_test, y_pred_gb_sm)\n",
    "recall_gb_sm = recall_score(y_test, y_pred_gb_sm)\n",
    "\n",
    "{\n",
    "    \"Accuracy (GB + SMOTE)\": accuracy_gb_sm,\n",
    "    \"F1-score\": f1_gb_sm,\n",
    "    \"Precision\": precision_gb_sm,\n",
    "    \"Recall\": recall_gb_sm\n",
    "}\n"
   ]
  },
  {
   "cell_type": "markdown",
   "id": "a817cde8",
   "metadata": {},
   "source": [
    "Ну видно что метрики стали лучше, однако надо все равно играться с гиперпараметрами моделей и возможно можно будет улучшить результат. А так вся проблема в сильном дисбалансе классов"
   ]
  }
 ],
 "metadata": {
  "kernelspec": {
   "display_name": "Python 3",
   "language": "python",
   "name": "python3"
  },
  "language_info": {
   "codemirror_mode": {
    "name": "ipython",
    "version": 3
   },
   "file_extension": ".py",
   "mimetype": "text/x-python",
   "name": "python",
   "nbconvert_exporter": "python",
   "pygments_lexer": "ipython3",
   "version": "3.12.10"
  }
 },
 "nbformat": 4,
 "nbformat_minor": 5
}
